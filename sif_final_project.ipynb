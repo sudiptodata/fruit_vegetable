{
 "cells": [
  {
   "cell_type": "markdown",
   "id": "248ba2d2-d9e2-4560-95be-786bf9e1449c",
   "metadata": {},
   "source": [
    "The aim of the model is to develop an AI system that distinguishes between fruits and vegetables for sale in open markets. It also identifies less visually appealing produce for donation to various charitable organizations and NGOs. This ensures the judicious utilization of fruits and vegetables, minimizing wastage. Ultimately, it contributes to broader objectives such as zero hunger and food security."
   ]
  },
  {
   "cell_type": "markdown",
   "id": "881476ff-d955-4035-a775-0c6e48a88208",
   "metadata": {},
   "source": [
    "# importing necessary models"
   ]
  },
  {
   "cell_type": "code",
   "execution_count": 1,
   "id": "e9cf23e2-4c1f-481e-b771-3f606504a017",
   "metadata": {},
   "outputs": [],
   "source": [
    "import warnings\n",
    "\n",
    "# Ignore all warnings\n",
    "warnings.filterwarnings('ignore')"
   ]
  },
  {
   "cell_type": "code",
   "execution_count": 2,
   "id": "5573b06f-5392-4553-a727-e8e94141a210",
   "metadata": {
    "scrolled": true
   },
   "outputs": [
    {
     "name": "stdout",
     "output_type": "stream",
     "text": [
      "WARNING:tensorflow:From C:\\Users\\sudis\\anaconda3\\lib\\site-packages\\keras\\src\\losses.py:2976: The name tf.losses.sparse_softmax_cross_entropy is deprecated. Please use tf.compat.v1.losses.sparse_softmax_cross_entropy instead.\n",
      "\n",
      "WARNING:tensorflow:From C:\\Users\\sudis\\anaconda3\\lib\\site-packages\\keras\\src\\backend.py:1398: The name tf.executing_eagerly_outside_functions is deprecated. Please use tf.compat.v1.executing_eagerly_outside_functions instead.\n",
      "\n",
      "WARNING:tensorflow:From C:\\Users\\sudis\\anaconda3\\lib\\site-packages\\keras\\src\\layers\\pooling\\max_pooling2d.py:161: The name tf.nn.max_pool is deprecated. Please use tf.nn.max_pool2d instead.\n",
      "\n",
      "Model: \"vgg16\"\n",
      "_________________________________________________________________\n",
      " Layer (type)                Output Shape              Param #   \n",
      "=================================================================\n",
      " input_1 (InputLayer)        [(None, 224, 224, 3)]     0         \n",
      "                                                                 \n",
      " block1_conv1 (Conv2D)       (None, 224, 224, 64)      1792      \n",
      "                                                                 \n",
      " block1_conv2 (Conv2D)       (None, 224, 224, 64)      36928     \n",
      "                                                                 \n",
      " block1_pool (MaxPooling2D)  (None, 112, 112, 64)      0         \n",
      "                                                                 \n",
      " block2_conv1 (Conv2D)       (None, 112, 112, 128)     73856     \n",
      "                                                                 \n",
      " block2_conv2 (Conv2D)       (None, 112, 112, 128)     147584    \n",
      "                                                                 \n",
      " block2_pool (MaxPooling2D)  (None, 56, 56, 128)       0         \n",
      "                                                                 \n",
      " block3_conv1 (Conv2D)       (None, 56, 56, 256)       295168    \n",
      "                                                                 \n",
      " block3_conv2 (Conv2D)       (None, 56, 56, 256)       590080    \n",
      "                                                                 \n",
      " block3_conv3 (Conv2D)       (None, 56, 56, 256)       590080    \n",
      "                                                                 \n",
      " block3_pool (MaxPooling2D)  (None, 28, 28, 256)       0         \n",
      "                                                                 \n",
      " block4_conv1 (Conv2D)       (None, 28, 28, 512)       1180160   \n",
      "                                                                 \n",
      " block4_conv2 (Conv2D)       (None, 28, 28, 512)       2359808   \n",
      "                                                                 \n",
      " block4_conv3 (Conv2D)       (None, 28, 28, 512)       2359808   \n",
      "                                                                 \n",
      " block4_pool (MaxPooling2D)  (None, 14, 14, 512)       0         \n",
      "                                                                 \n",
      " block5_conv1 (Conv2D)       (None, 14, 14, 512)       2359808   \n",
      "                                                                 \n",
      " block5_conv2 (Conv2D)       (None, 14, 14, 512)       2359808   \n",
      "                                                                 \n",
      " block5_conv3 (Conv2D)       (None, 14, 14, 512)       2359808   \n",
      "                                                                 \n",
      " block5_pool (MaxPooling2D)  (None, 7, 7, 512)         0         \n",
      "                                                                 \n",
      " flatten (Flatten)           (None, 25088)             0         \n",
      "                                                                 \n",
      " fc1 (Dense)                 (None, 4096)              102764544 \n",
      "                                                                 \n",
      " fc2 (Dense)                 (None, 4096)              16781312  \n",
      "                                                                 \n",
      " predictions (Dense)         (None, 1000)              4097000   \n",
      "                                                                 \n",
      "=================================================================\n",
      "Total params: 138357544 (527.79 MB)\n",
      "Trainable params: 138357544 (527.79 MB)\n",
      "Non-trainable params: 0 (0.00 Byte)\n",
      "_________________________________________________________________\n"
     ]
    }
   ],
   "source": [
    "import pandas as pd\n",
    "import numpy as np\n",
    "from keras.preprocessing.image import load_img\n",
    "from tensorflow.keras.utils import to_categorical\n",
    "# we are using VGG16 as a base model upon which AI will be trained\n",
    "from tensorflow.keras.applications import VGG16\n",
    "from tensorflow.keras.applications.vgg16 import preprocess_input\n",
    "from tensorflow.keras.utils import load_img\n",
    "from tensorflow.keras.models import Sequential\n",
    "from tensorflow.keras.layers import Dense\n",
    "pretrained_model = VGG16(weights=\"imagenet\")\n",
    "pretrained_model.summary()"
   ]
  },
  {
   "cell_type": "markdown",
   "id": "ae65cdf1-3584-4dc5-a57a-16413605ca5f",
   "metadata": {},
   "source": [
    "## creating a new model based on Pre trained model"
   ]
  },
  {
   "cell_type": "code",
   "execution_count": 3,
   "id": "db8b2016-3c3b-42c6-b7fe-4b3b1aec9cfd",
   "metadata": {
    "scrolled": true
   },
   "outputs": [
    {
     "name": "stdout",
     "output_type": "stream",
     "text": [
      "Model: \"sequential\"\n",
      "_________________________________________________________________\n",
      " Layer (type)                Output Shape              Param #   \n",
      "=================================================================\n",
      " block1_conv1 (Conv2D)       (None, 224, 224, 64)      1792      \n",
      "                                                                 \n",
      " block1_conv2 (Conv2D)       (None, 224, 224, 64)      36928     \n",
      "                                                                 \n",
      " block1_pool (MaxPooling2D)  (None, 112, 112, 64)      0         \n",
      "                                                                 \n",
      " block2_conv1 (Conv2D)       (None, 112, 112, 128)     73856     \n",
      "                                                                 \n",
      " block2_conv2 (Conv2D)       (None, 112, 112, 128)     147584    \n",
      "                                                                 \n",
      " block2_pool (MaxPooling2D)  (None, 56, 56, 128)       0         \n",
      "                                                                 \n",
      " block3_conv1 (Conv2D)       (None, 56, 56, 256)       295168    \n",
      "                                                                 \n",
      " block3_conv2 (Conv2D)       (None, 56, 56, 256)       590080    \n",
      "                                                                 \n",
      " block3_conv3 (Conv2D)       (None, 56, 56, 256)       590080    \n",
      "                                                                 \n",
      " block3_pool (MaxPooling2D)  (None, 28, 28, 256)       0         \n",
      "                                                                 \n",
      " block4_conv1 (Conv2D)       (None, 28, 28, 512)       1180160   \n",
      "                                                                 \n",
      " block4_conv2 (Conv2D)       (None, 28, 28, 512)       2359808   \n",
      "                                                                 \n",
      " block4_conv3 (Conv2D)       (None, 28, 28, 512)       2359808   \n",
      "                                                                 \n",
      " block4_pool (MaxPooling2D)  (None, 14, 14, 512)       0         \n",
      "                                                                 \n",
      " block5_conv1 (Conv2D)       (None, 14, 14, 512)       2359808   \n",
      "                                                                 \n",
      " block5_conv2 (Conv2D)       (None, 14, 14, 512)       2359808   \n",
      "                                                                 \n",
      " block5_conv3 (Conv2D)       (None, 14, 14, 512)       2359808   \n",
      "                                                                 \n",
      " block5_pool (MaxPooling2D)  (None, 7, 7, 512)         0         \n",
      "                                                                 \n",
      " flatten (Flatten)           (None, 25088)             0         \n",
      "                                                                 \n",
      " fc1 (Dense)                 (None, 4096)              102764544 \n",
      "                                                                 \n",
      " fc2 (Dense)                 (None, 4096)              16781312  \n",
      "                                                                 \n",
      " dense (Dense)               (None, 2)                 8194      \n",
      "                                                                 \n",
      "=================================================================\n",
      "Total params: 134268738 (512.19 MB)\n",
      "Trainable params: 8194 (32.01 KB)\n",
      "Non-trainable params: 134260544 (512.16 MB)\n",
      "_________________________________________________________________\n"
     ]
    }
   ],
   "source": [
    "#mode is named as model_fruits\n",
    "model_fruits = Sequential()\n",
    "for layers in pretrained_model.layers[:-1]:\n",
    "    layers.trainable = False\n",
    "    model_fruits.add(layers)\n",
    "model_fruits.add(Dense(2, activation = \"sigmoid\"))\n",
    "model_fruits.summary()"
   ]
  },
  {
   "cell_type": "markdown",
   "id": "927848c5-b97a-4856-a36a-376a6b6ea22f",
   "metadata": {},
   "source": [
    "## creating a database of images"
   ]
  },
  {
   "cell_type": "code",
   "execution_count": 4,
   "id": "3e1d4aa4-721f-4518-a5c0-0ea275e87b5f",
   "metadata": {},
   "outputs": [],
   "source": [
    "donate = r\"E:\\ai_project_images\\donate\\*\"\n",
    "sell = r\"E:\\ai_project_images\\for_sale\\*\""
   ]
  },
  {
   "cell_type": "code",
   "execution_count": 5,
   "id": "9515fca6-eed1-4653-8aaf-e178f102a752",
   "metadata": {},
   "outputs": [],
   "source": [
    "# glob is the module that will import all the images at onces\n",
    "import glob\n",
    "x = []\n",
    "y = []\n",
    "\n",
    "for image_path in glob.glob(sell):\n",
    "    input_img = load_img(image_path, target_size = (224, 224))\n",
    "    input_img = np.array(input_img)\n",
    "    #input_img = input_img.reshape(1,224,224,3)\n",
    "    input_img = preprocess_input(input_img)\n",
    "    x.append(input_img)\n",
    "    y.append(0) # 0 for sell, 1 for donate\n",
    "\n",
    "for image_path in glob.glob(donate):\n",
    "    input_img = load_img(image_path, target_size = (224,224))\n",
    "    input_img = np.array(input_img)\n",
    "    #input_img = input_img.reshape(1,224,224,3)\n",
    "    input_img = preprocess_input(input_img)\n",
    "    x.append(input_img)\n",
    "    y.append(1)"
   ]
  },
  {
   "cell_type": "code",
   "execution_count": 6,
   "id": "2a898010-bd64-4a16-bc9a-56ead577ac57",
   "metadata": {},
   "outputs": [],
   "source": [
    "#converting dataset into array\n",
    "x = np.array(x)\n",
    "y = np.array(y)"
   ]
  },
  {
   "cell_type": "code",
   "execution_count": 7,
   "id": "751b7392-3839-43ab-bd49-916c7443449a",
   "metadata": {},
   "outputs": [],
   "source": [
    "#importing train test split to divide the data into test and train\n",
    "from sklearn.model_selection import train_test_split\n",
    "x_train, x_test, y_train, y_test = train_test_split(x,y, test_size=0.2, random_state=44)"
   ]
  },
  {
   "cell_type": "code",
   "execution_count": 8,
   "id": "0ed6930f-b8ba-4c76-8c17-fb882abfaffc",
   "metadata": {},
   "outputs": [],
   "source": [
    "#converting the labels to categorical datasets for better model building\n",
    "y_train_ohe = to_categorical(y_train)\n",
    "y_test_ohe = to_categorical(y_test)"
   ]
  },
  {
   "cell_type": "code",
   "execution_count": 9,
   "id": "4689d9f6-1e2c-4141-b79f-597cf7cf8a89",
   "metadata": {},
   "outputs": [
    {
     "name": "stdout",
     "output_type": "stream",
     "text": [
      "shape of x_train: (960, 224, 224, 3)\n",
      "shape of x_test : (241, 224, 224, 3)\n",
      "shape of y_train: (960, 2)\n",
      "shape of y_test : (241, 2)\n"
     ]
    }
   ],
   "source": [
    "#checking out the datasets\n",
    "print(f\"shape of x_train: {x_train.shape}\")\n",
    "print(f\"shape of x_test : {x_test.shape}\")\n",
    "print(f\"shape of y_train: {y_train_ohe.shape}\")\n",
    "print(f\"shape of y_test : {y_test_ohe.shape}\")"
   ]
  },
  {
   "cell_type": "markdown",
   "id": "6a4b8384-508a-4417-923f-50a378673345",
   "metadata": {},
   "source": [
    "## model_building"
   ]
  },
  {
   "cell_type": "code",
   "execution_count": 10,
   "id": "08d718e3-fba6-4cf8-95e5-56b79cd4e219",
   "metadata": {},
   "outputs": [],
   "source": [
    "#importing adam from keras to hypertune the model\n",
    "from tensorflow.keras.optimizers import Adam"
   ]
  },
  {
   "cell_type": "code",
   "execution_count": 11,
   "id": "8b9bcf6b-8bda-4abc-b1af-18461a68fbf0",
   "metadata": {},
   "outputs": [],
   "source": [
    "lr = 0.009\n",
    "model_fruits.compile(loss=\"binary_crossentropy\",optimizer= Adam(learning_rate = lr), metrics=\"accuracy\")"
   ]
  },
  {
   "cell_type": "code",
   "execution_count": 12,
   "id": "d5c0d850-930d-4e1e-a30e-9248ed136b5d",
   "metadata": {},
   "outputs": [
    {
     "name": "stdout",
     "output_type": "stream",
     "text": [
      "WARNING:tensorflow:From C:\\Users\\sudis\\anaconda3\\lib\\site-packages\\keras\\src\\utils\\tf_utils.py:492: The name tf.ragged.RaggedTensorValue is deprecated. Please use tf.compat.v1.ragged.RaggedTensorValue instead.\n",
      "\n",
      "WARNING:tensorflow:From C:\\Users\\sudis\\anaconda3\\lib\\site-packages\\keras\\src\\engine\\base_layer_utils.py:384: The name tf.executing_eagerly_outside_functions is deprecated. Please use tf.compat.v1.executing_eagerly_outside_functions instead.\n",
      "\n",
      "30/30 [==============================] - 106s 4s/step - loss: 1.1238 - accuracy: 0.8062 - val_loss: 0.5651 - val_accuracy: 0.8755\n"
     ]
    },
    {
     "data": {
      "text/plain": [
       "<keras.src.callbacks.History at 0x1c19ceaa4a0>"
      ]
     },
     "execution_count": 12,
     "metadata": {},
     "output_type": "execute_result"
    }
   ],
   "source": [
    "model_fruits.fit(x = x_train, y = y_train_ohe, validation_data=(x_test, y_test_ohe), shuffle = True)"
   ]
  },
  {
   "cell_type": "code",
   "execution_count": 13,
   "id": "2c9b93f4-f9e3-4556-9581-ffff5f50e8f5",
   "metadata": {},
   "outputs": [
    {
     "name": "stdout",
     "output_type": "stream",
     "text": [
      "8/8 [==============================] - 22s 3s/step\n",
      "Confusion Matrix:\n",
      "[[103  21]\n",
      " [  9 108]]\n"
     ]
    }
   ],
   "source": [
    "from sklearn.metrics import confusion_matrix\n",
    "\n",
    "# Predict labels for the test data\n",
    "y_pred = model_fruits.predict(x_test)\n",
    "\n",
    "# Convert the predicted probabilities to class labels\n",
    "y_pred_labels = np.argmax(y_pred, axis=1)\n",
    "\n",
    "# Convert one-hot encoded true labels to class labels\n",
    "y_true_labels = np.argmax(y_test_ohe, axis=1)\n",
    "\n",
    "# Create the confusion matrix\n",
    "conf_matrix = confusion_matrix(y_true_labels, y_pred_labels)\n",
    "\n",
    "# Print or visualize the confusion matrix\n",
    "print(\"Confusion Matrix:\")\n",
    "print(conf_matrix)"
   ]
  },
  {
   "cell_type": "code",
   "execution_count": 22,
   "id": "e43044d9-95fa-4387-aebc-5c6d3dfbf7cd",
   "metadata": {},
   "outputs": [
    {
     "data": {
      "image/png": "[encoded data removed]",
      "text/plain": [
       "<Figure size 640x480 with 2 Axes>"
      ]
     },
     "metadata": {},
     "output_type": "display_data"
    }
   ],
   "source": [
    "from sklearn.metrics import confusion_matrix, ConfusionMatrixDisplay\n",
    "import matplotlib.pyplot as plt\n",
    "\n",
    "# Calculate the confusion matrix\n",
    "conf_matrix = confusion_matrix(y_true_labels, y_pred_labels)\n",
    "\n",
    "# Plot the confusion matrix\n",
    "cm_display = ConfusionMatrixDisplay(confusion_matrix=conf_matrix, display_labels=[0, 1])\n",
    "cm_display.plot()\n",
    "plt.show()\n"
   ]
  },
  {
   "cell_type": "code",
   "execution_count": 14,
   "id": "7b87309b-0e58-4926-bd57-a5b228509585",
   "metadata": {},
   "outputs": [
    {
     "name": "stdout",
     "output_type": "stream",
     "text": [
      "              precision    recall  f1-score   support\n",
      "\n",
      "           0       0.92      0.83      0.87       124\n",
      "           1       0.84      0.92      0.88       117\n",
      "\n",
      "    accuracy                           0.88       241\n",
      "   macro avg       0.88      0.88      0.88       241\n",
      "weighted avg       0.88      0.88      0.88       241\n",
      "\n"
     ]
    }
   ],
   "source": [
    "from sklearn.metrics import classification_report\n",
    "print(classification_report(y_true_labels, y_pred_labels))"
   ]
  },
  {
   "cell_type": "code",
   "execution_count": 15,
   "id": "4b59fca8-76e7-47e6-bde3-9b986bde8112",
   "metadata": {},
   "outputs": [],
   "source": [
    "action_to_be_taken = {0: 'sell', 1: 'donate'}\n",
    "action_to_be_taken = pd.DataFrame(list(action_to_be_taken.items()), columns=['Label', 'Action'])\n",
    "action_to_be_taken.set_index('Label', inplace=True)"
   ]
  },
  {
   "cell_type": "code",
   "execution_count": 16,
   "id": "4fcebdda-32cb-48a0-a565-adb278ab0160",
   "metadata": {},
   "outputs": [
    {
     "data": {
      "image/jpeg": "[encoded data removed]",
      "image/png": "[encoded data removed]",
      "text/plain": [
       "<PIL.Image.Image image mode=RGB size=224x224>"
      ]
     },
     "execution_count": 16,
     "metadata": {},
     "output_type": "execute_result"
    }
   ],
   "source": [
    "from keras.preprocessing.image import load_img\n",
    "\n",
    "# Provide the path to the image file\n",
    "image_for_pred = load_img(r\"C:\\Users\\sudis\\Downloads\\Sell\\Sell\\images (96).jpeg\", target_size=(224, 224))\n",
    "image_for_pred"
   ]
  },
  {
   "cell_type": "code",
   "execution_count": 17,
   "id": "0c391500-b8a6-4478-893c-cde3ce114b74",
   "metadata": {},
   "outputs": [
    {
     "name": "stdout",
     "output_type": "stream",
     "text": [
      "1/1 [==============================] - 0s 168ms/step\n"
     ]
    }
   ],
   "source": [
    "image_for_pred = np.array(image_for_pred)\n",
    "image_for_pred = image_for_pred.reshape(1,224,224,3)\n",
    "image_for_pred = preprocess_input(image_for_pred)\n",
    "pred = model_fruits.predict(image_for_pred)\n",
    "action_to_be_taken[\"pred_prob\"] = np.round(pred.flatten(), 2)*100"
   ]
  },
  {
   "cell_type": "code",
   "execution_count": 19,
   "id": "2b18a839-d5cc-4659-a5d9-533039713e65",
   "metadata": {},
   "outputs": [
    {
     "name": "stdout",
     "output_type": "stream",
     "text": [
      "We recomend it to sell\n"
     ]
    }
   ],
   "source": [
    "# Find the index of the row with the highest 'pred' value\n",
    "max_pred_index = action_to_be_taken['pred_prob'].idxmax()\n",
    "\n",
    "# Get the label corresponding to the row with the highest 'pred' value\n",
    "label_with_highest_pred = action_to_be_taken.loc[max_pred_index, 'Action']\n",
    "\n",
    "# Print the label with the highest 'pred' value\n",
    "print(\"We recomend it to\", label_with_highest_pred)"
   ]
  },
  {
   "cell_type": "code",
   "execution_count": null,
   "id": "6ca56f53-9eba-4951-94f5-91bf19b97417",
   "metadata": {},
   "outputs": [],
   "source": []
  }
 ],
 "metadata": {
  "kernelspec": {
   "display_name": "Python 3 (ipykernel)",
   "language": "python",
   "name": "python3"
  },
  "language_info": {
   "codemirror_mode": {
    "name": "ipython",
    "version": 3
   },
   "file_extension": ".py",
   "mimetype": "text/x-python",
   "name": "python",
   "nbconvert_exporter": "python",
   "pygments_lexer": "ipython3",
   "version": "3.10.9"
  }
 },
 "nbformat": 4,
 "nbformat_minor": 5
}
